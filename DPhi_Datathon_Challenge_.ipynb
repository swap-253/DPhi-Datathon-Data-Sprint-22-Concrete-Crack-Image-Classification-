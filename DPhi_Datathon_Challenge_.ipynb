{
  "nbformat": 4,
  "nbformat_minor": 0,
  "metadata": {
    "colab": {
      "name": "DPhi Datathon Challenge .ipynb",
      "provenance": [],
      "collapsed_sections": []
    },
    "kernelspec": {
      "display_name": "Python 3",
      "name": "python3"
    },
    "accelerator": "GPU"
  },
  "cells": [
    {
      "cell_type": "code",
      "metadata": {
        "id": "6PtZ3gPOu6CB",
        "colab": {
          "base_uri": "https://localhost:8080/"
        },
        "outputId": "c349f3a2-2802-49eb-8f49-9d0915139789"
      },
      "source": [
        "#importing the contest dataset\r\n",
        "from google_drive_downloader import GoogleDriveDownloader as gdd\r\n",
        "gdd.download_file_from_google_drive(file_id='1ZKrbsUlrsTgJSlFMz2EGmTINFCQ8PcjO',\r\n",
        "dest_path='content/concrete_crack_data.zip',\r\n",
        "unzip=True)"
      ],
      "execution_count": 1,
      "outputs": [
        {
          "output_type": "stream",
          "text": [
            "Downloading 1ZKrbsUlrsTgJSlFMz2EGmTINFCQ8PcjO into content/concrete_crack_data.zip... Done.\n",
            "Unzipping...Done.\n"
          ],
          "name": "stdout"
        }
      ]
    },
    {
      "cell_type": "code",
      "metadata": {
        "colab": {
          "base_uri": "https://localhost:8080/"
        },
        "id": "DZUtVEpFSAz3",
        "outputId": "a5589d4f-b72e-4f17-8375-be53d4379dfc"
      },
      "source": [
        "!pip install keras-tuner"
      ],
      "execution_count": 2,
      "outputs": [
        {
          "output_type": "stream",
          "text": [
            "Collecting keras-tuner\n",
            "\u001b[?25l  Downloading https://files.pythonhosted.org/packages/20/ec/1ef246787174b1e2bb591c95f29d3c1310070cad877824f907faba3dade9/keras-tuner-1.0.2.tar.gz (62kB)\n",
            "\r\u001b[K     |█████▏                          | 10kB 26.0MB/s eta 0:00:01\r\u001b[K     |██████████▍                     | 20kB 28.1MB/s eta 0:00:01\r\u001b[K     |███████████████▋                | 30kB 20.9MB/s eta 0:00:01\r\u001b[K     |████████████████████▉           | 40kB 24.6MB/s eta 0:00:01\r\u001b[K     |██████████████████████████      | 51kB 23.1MB/s eta 0:00:01\r\u001b[K     |███████████████████████████████▎| 61kB 25.6MB/s eta 0:00:01\r\u001b[K     |████████████████████████████████| 71kB 9.8MB/s \n",
            "\u001b[?25hRequirement already satisfied: packaging in /usr/local/lib/python3.6/dist-packages (from keras-tuner) (20.9)\n",
            "Requirement already satisfied: future in /usr/local/lib/python3.6/dist-packages (from keras-tuner) (0.16.0)\n",
            "Requirement already satisfied: numpy in /usr/local/lib/python3.6/dist-packages (from keras-tuner) (1.19.5)\n",
            "Requirement already satisfied: tabulate in /usr/local/lib/python3.6/dist-packages (from keras-tuner) (0.8.7)\n",
            "Collecting terminaltables\n",
            "  Downloading https://files.pythonhosted.org/packages/9b/c4/4a21174f32f8a7e1104798c445dacdc1d4df86f2f26722767034e4de4bff/terminaltables-3.1.0.tar.gz\n",
            "Collecting colorama\n",
            "  Downloading https://files.pythonhosted.org/packages/44/98/5b86278fbbf250d239ae0ecb724f8572af1c91f4a11edf4d36a206189440/colorama-0.4.4-py2.py3-none-any.whl\n",
            "Requirement already satisfied: tqdm in /usr/local/lib/python3.6/dist-packages (from keras-tuner) (4.41.1)\n",
            "Requirement already satisfied: requests in /usr/local/lib/python3.6/dist-packages (from keras-tuner) (2.23.0)\n",
            "Requirement already satisfied: scipy in /usr/local/lib/python3.6/dist-packages (from keras-tuner) (1.4.1)\n",
            "Requirement already satisfied: scikit-learn in /usr/local/lib/python3.6/dist-packages (from keras-tuner) (0.22.2.post1)\n",
            "Requirement already satisfied: pyparsing>=2.0.2 in /usr/local/lib/python3.6/dist-packages (from packaging->keras-tuner) (2.4.7)\n",
            "Requirement already satisfied: certifi>=2017.4.17 in /usr/local/lib/python3.6/dist-packages (from requests->keras-tuner) (2020.12.5)\n",
            "Requirement already satisfied: chardet<4,>=3.0.2 in /usr/local/lib/python3.6/dist-packages (from requests->keras-tuner) (3.0.4)\n",
            "Requirement already satisfied: urllib3!=1.25.0,!=1.25.1,<1.26,>=1.21.1 in /usr/local/lib/python3.6/dist-packages (from requests->keras-tuner) (1.24.3)\n",
            "Requirement already satisfied: idna<3,>=2.5 in /usr/local/lib/python3.6/dist-packages (from requests->keras-tuner) (2.10)\n",
            "Requirement already satisfied: joblib>=0.11 in /usr/local/lib/python3.6/dist-packages (from scikit-learn->keras-tuner) (1.0.0)\n",
            "Building wheels for collected packages: keras-tuner, terminaltables\n",
            "  Building wheel for keras-tuner (setup.py) ... \u001b[?25l\u001b[?25hdone\n",
            "  Created wheel for keras-tuner: filename=keras_tuner-1.0.2-cp36-none-any.whl size=78939 sha256=dec6584adba75f0eb7a91542aac6219d2f7942bcbf7d97a8bd22659d8aa82aab\n",
            "  Stored in directory: /root/.cache/pip/wheels/bb/a1/8a/7c3de0efb3707a1701b36ebbfdbc4e67aedf6d4943a1f463d6\n",
            "  Building wheel for terminaltables (setup.py) ... \u001b[?25l\u001b[?25hdone\n",
            "  Created wheel for terminaltables: filename=terminaltables-3.1.0-cp36-none-any.whl size=15358 sha256=812dbd088fdbd50c492904aab25bfc04cb238fce67455e28a80bd358f073e242\n",
            "  Stored in directory: /root/.cache/pip/wheels/30/6b/50/6c75775b681fb36cdfac7f19799888ef9d8813aff9e379663e\n",
            "Successfully built keras-tuner terminaltables\n",
            "Installing collected packages: terminaltables, colorama, keras-tuner\n",
            "Successfully installed colorama-0.4.4 keras-tuner-1.0.2 terminaltables-3.1.0\n"
          ],
          "name": "stdout"
        }
      ]
    },
    {
      "cell_type": "code",
      "metadata": {
        "id": "dpEl8rKQ8h9w"
      },
      "source": [
        "#importing important libraries\n",
        "import pandas as pd\n",
        "import numpy as np\n",
        "import matplotlib.pyplot as plt\n",
        "import seaborn as sns\n",
        "from sklearn.metrics import roc_curve,auc\n",
        "from sklearn.metrics import roc_auc_score\n",
        "from sklearn.model_selection import train_test_split\n",
        "from sklearn.metrics import confusion_matrix\n",
        "from sklearn import metrics\n",
        "import keras\n",
        "from keras.models import Sequential\n",
        "from keras.layers import Dense, Conv2D , MaxPool2D , Flatten , Dropout , BatchNormalization\n",
        "from keras.preprocessing.image import ImageDataGenerator\n",
        "from sklearn.model_selection import train_test_split\n",
        "from sklearn.metrics import classification_report,confusion_matrix\n",
        "from keras.callbacks import ReduceLROnPlateau\n",
        "import cv2\n",
        "from keras.applications.vgg16 import VGG16\n",
        "from keras.applications.vgg16 import preprocess_input\n",
        "from keras.applications.resnet50 import ResNet50\n",
        "from keras.optimizers import Adam,SGD,Adagrad,Adadelta,RMSprop\n",
        "from kerastuner import RandomSearch\n",
        "from kerastuner.engine.hyperparameters import HyperParameters\n",
        "import os"
      ],
      "execution_count": 3,
      "outputs": []
    },
    {
      "cell_type": "code",
      "metadata": {
        "id": "8Jc48TJ6vWOW"
      },
      "source": [
        "data=[]\r\n",
        "img_size=50 # Here we are taking image size as 50, but it's completely dependent on the user. I experimented and it gave me the best results\r\n",
        "def create_data():\r\n",
        "    for item in ['Negative','Positive']:\r\n",
        "      path='/content/content/concrete_cracked_images/train/'+item+\"/\"\r\n",
        "\r\n",
        "      for img in os.listdir(path): # os.listdir gets you all the list of name of files located in the given path\r\n",
        "        try:\r\n",
        "          img_array=cv2.imread(os.path.join(path,img),cv2.IMREAD_GRAYSCALE) # converts the image to pixels and gray scales the images\r\n",
        "          new_img_array=cv2.resize(img_array,(img_size,img_size)) # resizing the images\r\n",
        "          #converting the images into rgb format so that transfer learning can take place\r\n",
        "          new_img_array=np.dstack((new_img_array, new_img_array, new_img_array))\r\n",
        "          #appending 0 if there's no crack  and 1 if crack is present\r\n",
        "          if item == 'Negative':\r\n",
        "            data.append([new_img_array,0])\r\n",
        "          else:\r\n",
        "            data.append([new_img_array, 1]) \r\n",
        "        except Exception as e:\r\n",
        "          pass # try and except is exception handling case in python, saves you from getting errors\r\n",
        "\r\n",
        "\r\n",
        "create_data()"
      ],
      "execution_count": 4,
      "outputs": []
    },
    {
      "cell_type": "code",
      "metadata": {
        "colab": {
          "base_uri": "https://localhost:8080/"
        },
        "id": "ZMgm9Ss__QIK",
        "outputId": "a12e8df5-cb31-46ed-b4f8-0c34f9acee66"
      },
      "source": [
        "len(data)"
      ],
      "execution_count": 5,
      "outputs": [
        {
          "output_type": "execute_result",
          "data": {
            "text/plain": [
              "28718"
            ]
          },
          "metadata": {
            "tags": []
          },
          "execution_count": 5
        }
      ]
    },
    {
      "cell_type": "code",
      "metadata": {
        "colab": {
          "base_uri": "https://localhost:8080/"
        },
        "id": "upPbSW4DwI4W",
        "outputId": "b9c4cd1f-0ae3-45ff-8d2b-6b8f51ddbe04"
      },
      "source": [
        "np.random.shuffle(data)\r\n",
        "x,y = [],[]\r\n",
        "for image in data:\r\n",
        "  x.append(image[0])\r\n",
        "  y.append(image[1])\r\n",
        "# creating y as a dummy variable and converting x & y to numpy array as they are lists\r\n",
        "y = pd.get_dummies(y)\r\n",
        "x = np.array(x)\r\n",
        "y = np.array(y)\r\n",
        "np.unique(y, return_counts=True)"
      ],
      "execution_count": 6,
      "outputs": [
        {
          "output_type": "execute_result",
          "data": {
            "text/plain": [
              "(array([0, 1], dtype=uint8), array([28718, 28718]))"
            ]
          },
          "metadata": {
            "tags": []
          },
          "execution_count": 6
        }
      ]
    },
    {
      "cell_type": "code",
      "metadata": {
        "id": "yV4C_wFz8w0-",
        "colab": {
          "base_uri": "https://localhost:8080/",
          "height": 321
        },
        "outputId": "3caf4be0-d044-4641-f560-950cc0092fea"
      },
      "source": [
        "#displaying an instance of the image\n",
        "plt.figure(figsize = (5,5))\n",
        "plt.imshow(data[0][0], cmap='gray')\n",
        "#plt.title(l[0])\n",
        "plt.show()"
      ],
      "execution_count": 7,
      "outputs": [
        {
          "output_type": "display_data",
          "data": {
            "image/png": "[encoded data removed]",
            "text/plain": [
              "<Figure size 360x360 with 1 Axes>"
            ]
          },
          "metadata": {
            "tags": [],
            "needs_background": "light"
          }
        }
      ]
    },
    {
      "cell_type": "code",
      "metadata": {
        "id": "S4cYn_qP8wxG",
        "colab": {
          "base_uri": "https://localhost:8080/"
        },
        "outputId": "322a3b7d-1110-421c-bf30-3b246d9846e2"
      },
      "source": [
        "\n",
        "img_size = 50\n",
        "#train test split is done\n",
        "x_train,x_test,y_train,y_test= train_test_split(x,y,test_size=.12, random_state=40)\n",
        "print(x_train.shape,y_train.shape,x_test.shape,y_test.shape)\n",
        "# Normalize the data for better results\n",
        "x_train = np.array(x_train) / 255\n",
        "x_test = np.array(x_test) / 255\n",
        "print(x_train.shape,x_test.shape)\n",
        "# resize data for deep learning \n",
        "x_train = x_train.reshape(-1, img_size, img_size, 3)\n",
        "print(x_train.shape)\n",
        "y_train = np.array(y_train)\n",
        "x_test = x_test.reshape(-1, img_size, img_size, 3)\n",
        "y_test = np.array(y_test)\n",
        "print(x_test.shape)"
      ],
      "execution_count": 8,
      "outputs": [
        {
          "output_type": "stream",
          "text": [
            "(25271, 50, 50, 3) (25271, 2) (3447, 50, 50, 3) (3447, 2)\n",
            "(25271, 50, 50, 3) (3447, 50, 50, 3)\n",
            "(25271, 50, 50, 3)\n",
            "(3447, 50, 50, 3)\n"
          ],
          "name": "stdout"
        }
      ]
    },
    {
      "cell_type": "code",
      "metadata": {
        "id": "23VzW-D5Uo3v"
      },
      "source": [
        "#This function defines two pretrained models VGG-16 and ResNets which don't need to be trained further\r\n",
        "def transfer_learning(model):\r\n",
        "    for layer in model.layers:\r\n",
        "        layer.trainable = False\r\n",
        "#vgg model        \r\n",
        "model_vgg = VGG16(include_top=False,weights='imagenet',pooling='avg')\r\n",
        "#resnet model\r\n",
        "model_resnet = ResNet50(include_top=False,weights='imagenet',pooling='avg')\r\n",
        "# transfer_learning(model_vgg)\r\n",
        "# transfer_learning(model_resnet)\r\n",
        "\r\n",
        "models = [model_vgg,model_resnet]\r\n",
        "model_name = [\"VGG\",\"RESNET\"]"
      ],
      "execution_count": 25,
      "outputs": []
    },
    {
      "cell_type": "code",
      "metadata": {
        "id": "VZy5140GUuen"
      },
      "source": [
        "from keras.models import Model\r\n",
        "import time\r\n",
        "#Model Training\r\n",
        "def training_model(para):\r\n",
        "    model = para;\r\n",
        "    x = model.output\r\n",
        "    #A dense layer has been added because we want two outputs \r\n",
        "    y = Dense(2,activation='softmax')(x)\r\n",
        "    final_model = Model(inputs=model.input,outputs=y)\r\n",
        "     #defining the optimizer   \r\n",
        "    opt = SGD(lr=0.001, momentum=0.9, nesterov=True)\r\n",
        "    final_model.compile(optimizer=opt,loss='categorical_crossentropy',metrics=['accuracy'])\r\n",
        "    t1=time.time()\r\n",
        "    final_model.fit(x_train, y_train,batch_size=32,epochs=10,validation_data=(x_test,y_test),shuffle=True,verbose=1)\r\n",
        "    #training is done for 6th and above layers \r\n",
        "    for layer in final_model.layers[6:]:\r\n",
        "        layer.trainable = True\r\n",
        "    final_model.compile(optimizer=opt,loss='categorical_crossentropy',metrics=['accuracy'])\r\n",
        "    t2=time.time()\r\n",
        "    print('The time taken to train the model is',round(int(t2-t1)/60,2),'minutes')\r\n",
        "    scores = final_model.evaluate(x_test, y_test,batch_size=32)\r\n",
        "    print(\"Loss\"+ str(scores[0]))\r\n",
        "    print(\"Accuracy\"+ str(scores[1]))\r\n",
        "    return final_model    "
      ],
      "execution_count": 26,
      "outputs": []
    },
    {
      "cell_type": "code",
      "metadata": {
        "colab": {
          "base_uri": "https://localhost:8080/"
        },
        "id": "Vo61rHO-VCFD",
        "outputId": "2d01aff1-4eb1-4499-fbd5-7ff064c99ec3"
      },
      "source": [
        "#Training the VGG Model\r\n",
        "print(\"training VGG\")\r\n",
        "vgg=training_model(model_vgg)"
      ],
      "execution_count": 27,
      "outputs": [
        {
          "output_type": "stream",
          "text": [
            "training VGG\n",
            "Epoch 1/10\n",
            "790/790 [==============================] - 35s 43ms/step - loss: 0.0768 - accuracy: 0.9739 - val_loss: 0.0217 - val_accuracy: 0.9933\n",
            "Epoch 2/10\n",
            "790/790 [==============================] - 34s 43ms/step - loss: 0.0113 - accuracy: 0.9964 - val_loss: 0.0108 - val_accuracy: 0.9980\n",
            "Epoch 3/10\n",
            "790/790 [==============================] - 33s 42ms/step - loss: 0.0084 - accuracy: 0.9978 - val_loss: 0.0242 - val_accuracy: 0.9927\n",
            "Epoch 4/10\n",
            "790/790 [==============================] - 34s 43ms/step - loss: 0.0056 - accuracy: 0.9984 - val_loss: 0.0086 - val_accuracy: 0.9977\n",
            "Epoch 5/10\n",
            "790/790 [==============================] - 34s 42ms/step - loss: 0.0063 - accuracy: 0.9980 - val_loss: 0.0107 - val_accuracy: 0.9965\n",
            "Epoch 6/10\n",
            "790/790 [==============================] - 34s 42ms/step - loss: 0.0045 - accuracy: 0.9983 - val_loss: 0.0098 - val_accuracy: 0.9977\n",
            "Epoch 7/10\n",
            "790/790 [==============================] - 34s 43ms/step - loss: 0.0038 - accuracy: 0.9990 - val_loss: 0.0075 - val_accuracy: 0.9980\n",
            "Epoch 8/10\n",
            "790/790 [==============================] - 34s 43ms/step - loss: 0.0033 - accuracy: 0.9993 - val_loss: 0.0107 - val_accuracy: 0.9971\n",
            "Epoch 9/10\n",
            "790/790 [==============================] - 34s 42ms/step - loss: 0.0016 - accuracy: 0.9994 - val_loss: 0.0072 - val_accuracy: 0.9980\n",
            "Epoch 10/10\n",
            "790/790 [==============================] - 34s 43ms/step - loss: 0.0015 - accuracy: 0.9996 - val_loss: 0.0099 - val_accuracy: 0.9974\n",
            "The time taken to train the model is 5.62 minutes\n",
            "108/108 [==============================] - 2s 13ms/step - loss: 0.0175 - accuracy: 0.9956\n",
            "Loss0.009948414750397205\n",
            "Accuracy0.997389018535614\n"
          ],
          "name": "stdout"
        }
      ]
    },
    {
      "cell_type": "code",
      "metadata": {
        "colab": {
          "base_uri": "https://localhost:8080/"
        },
        "id": "4lY-xj9opDMp",
        "outputId": "9f481b42-6aff-4537-f32d-7b1fb68d23fe"
      },
      "source": [
        "#Training the ResNet Model Model\r\n",
        "print(\"training Resnet\")\r\n",
        "resnet=training_model(model_resnet)"
      ],
      "execution_count": null,
      "outputs": [
        {
          "output_type": "stream",
          "text": [
            "training Resnet\n",
            "Epoch 1/8\n",
            "790/790 - 37s - loss: 0.0451 - accuracy: 0.9847 - val_loss: 1.8039 - val_accuracy: 0.5622\n",
            "Epoch 2/8\n",
            "790/790 - 33s - loss: 0.0126 - accuracy: 0.9964 - val_loss: 0.0116 - val_accuracy: 0.9977\n",
            "Epoch 3/8\n",
            "790/790 - 33s - loss: 0.0079 - accuracy: 0.9978 - val_loss: 0.0107 - val_accuracy: 0.9974\n",
            "Epoch 4/8\n",
            "790/790 - 33s - loss: 0.0050 - accuracy: 0.9986 - val_loss: 0.0112 - val_accuracy: 0.9977\n",
            "Epoch 5/8\n",
            "790/790 - 33s - loss: 0.0039 - accuracy: 0.9989 - val_loss: 0.0090 - val_accuracy: 0.9983\n",
            "Epoch 6/8\n",
            "790/790 - 33s - loss: 0.0030 - accuracy: 0.9990 - val_loss: 0.0123 - val_accuracy: 0.9977\n",
            "Epoch 7/8\n",
            "790/790 - 33s - loss: 0.0018 - accuracy: 0.9996 - val_loss: 0.0148 - val_accuracy: 0.9983\n",
            "Epoch 8/8\n",
            "790/790 - 33s - loss: 0.0018 - accuracy: 0.9996 - val_loss: 0.0146 - val_accuracy: 0.9980\n",
            "The time taken to train the model is 4.5 minutes\n",
            "108/108 [==============================] - 3s 12ms/step - loss: 0.0143 - accuracy: 0.9978\n",
            "Loss0.014600037597119808\n",
            "Accuracy0.9979692697525024\n"
          ],
          "name": "stdout"
        }
      ]
    },
    {
      "cell_type": "markdown",
      "metadata": {
        "id": "NXduizUllb0q"
      },
      "source": [
        "### **VGG Model seemed to perform better, hence I used that model**"
      ]
    },
    {
      "cell_type": "code",
      "metadata": {
        "colab": {
          "base_uri": "https://localhost:8080/"
        },
        "id": "_YMWGph_Uugu",
        "outputId": "a174a484-a5a2-4940-c5af-793e3699ec4c"
      },
      "source": [
        "#class prediction for test data\r\n",
        "predictions_vgg = np.argmax(vgg.predict(x_test), axis=-1)\r\n",
        "predictions_vgg[:15]"
      ],
      "execution_count": 28,
      "outputs": [
        {
          "output_type": "execute_result",
          "data": {
            "text/plain": [
              "array([0, 0, 1, 0, 0, 0, 1, 1, 1, 0, 1, 0, 1, 0, 1])"
            ]
          },
          "metadata": {
            "tags": []
          },
          "execution_count": 28
        }
      ]
    },
    {
      "cell_type": "code",
      "metadata": {
        "colab": {
          "base_uri": "https://localhost:8080/"
        },
        "id": "FIla4ORDdTi1",
        "outputId": "179d9e16-e812-4598-9da5-eb15f313eebf"
      },
      "source": [
        "#display classification report for each of the classes\r\n",
        "print(classification_report(np.argmax(y_test,axis = 1), predictions_vgg, target_names = ['Negative (Class 0)','Positive (Class 1)']))"
      ],
      "execution_count": 29,
      "outputs": [
        {
          "output_type": "stream",
          "text": [
            "                    precision    recall  f1-score   support\n",
            "\n",
            "Negative (Class 0)       1.00      1.00      1.00      1727\n",
            "Positive (Class 1)       1.00      1.00      1.00      1720\n",
            "\n",
            "          accuracy                           1.00      3447\n",
            "         macro avg       1.00      1.00      1.00      3447\n",
            "      weighted avg       1.00      1.00      1.00      3447\n",
            "\n"
          ],
          "name": "stdout"
        }
      ]
    },
    {
      "cell_type": "code",
      "metadata": {
        "id": "il8wywT-Uj2S",
        "colab": {
          "base_uri": "https://localhost:8080/",
          "height": 623
        },
        "outputId": "8527e9f3-20e7-4eeb-f50b-7980b3e2baac"
      },
      "source": [
        "#to plot a confusion matrix\r\n",
        "cm=confusion_matrix(np.argmax(y_test, axis=-1), predictions_vgg)\r\n",
        "cm1 = pd.DataFrame(cm , index = ['Negative','Positive'] , columns = ['Negative','Positive'])\r\n",
        "plt.figure(figsize = (10,10))\r\n",
        "ax=sns.heatmap(cm1,cmap= \"Blues\", linecolor = 'black' , linewidth = 1 , annot = True, fmt='')\r\n",
        "ax.set(xlabel=\"Actual Outcome\", ylabel = \"Predicted Outcome\")"
      ],
      "execution_count": 30,
      "outputs": [
        {
          "output_type": "execute_result",
          "data": {
            "text/plain": [
              "[Text(69.0, 0.5, 'Predicted Outcome'), Text(0.5, 69.0, 'Actual Outcome')]"
            ]
          },
          "metadata": {
            "tags": []
          },
          "execution_count": 30
        },
        {
          "output_type": "display_data",
          "data": {
            "image/png": "[encoded data removed]",
            "text/plain": [
              "<Figure size 720x720 with 2 Axes>"
            ]
          },
          "metadata": {
            "tags": [],
            "needs_background": "light"
          }
        }
      ]
    },
    {
      "cell_type": "code",
      "metadata": {
        "colab": {
          "base_uri": "https://localhost:8080/",
          "height": 204
        },
        "id": "BZNGMbhZNG3t",
        "outputId": "86e2fdd9-4fba-4023-a3a0-15cc1befe7d8"
      },
      "source": [
        "# Loading the order of the image's name that has been provided\r\n",
        "test_image_order = pd.read_csv(\"/content/content/concrete_cracked_images/Testing_set_concrete_crack.csv\")\r\n",
        "test_image_order.head()"
      ],
      "execution_count": 31,
      "outputs": [
        {
          "output_type": "execute_result",
          "data": {
            "text/html": [
              "<div>\n",
              "<style scoped>\n",
              "    .dataframe tbody tr th:only-of-type {\n",
              "        vertical-align: middle;\n",
              "    }\n",
              "\n",
              "    .dataframe tbody tr th {\n",
              "        vertical-align: top;\n",
              "    }\n",
              "\n",
              "    .dataframe thead th {\n",
              "        text-align: right;\n",
              "    }\n",
              "</style>\n",
              "<table border=\"1\" class=\"dataframe\">\n",
              "  <thead>\n",
              "    <tr style=\"text-align: right;\">\n",
              "      <th></th>\n",
              "      <th>filename</th>\n",
              "    </tr>\n",
              "  </thead>\n",
              "  <tbody>\n",
              "    <tr>\n",
              "      <th>0</th>\n",
              "      <td>Image_1.jpg</td>\n",
              "    </tr>\n",
              "    <tr>\n",
              "      <th>1</th>\n",
              "      <td>Image_2.jpg</td>\n",
              "    </tr>\n",
              "    <tr>\n",
              "      <th>2</th>\n",
              "      <td>Image_3.jpg</td>\n",
              "    </tr>\n",
              "    <tr>\n",
              "      <th>3</th>\n",
              "      <td>Image_4.jpg</td>\n",
              "    </tr>\n",
              "    <tr>\n",
              "      <th>4</th>\n",
              "      <td>Image_5.jpg</td>\n",
              "    </tr>\n",
              "  </tbody>\n",
              "</table>\n",
              "</div>"
            ],
            "text/plain": [
              "      filename\n",
              "0  Image_1.jpg\n",
              "1  Image_2.jpg\n",
              "2  Image_3.jpg\n",
              "3  Image_4.jpg\n",
              "4  Image_5.jpg"
            ]
          },
          "metadata": {
            "tags": []
          },
          "execution_count": 31
        }
      ]
    },
    {
      "cell_type": "code",
      "metadata": {
        "id": "Gykq5Ip9NG6D"
      },
      "source": [
        "#appending the test image files\r\n",
        "file_paths = [[fname, '/content/content/concrete_cracked_images/test/' + fname] for fname in test_image_order['filename']]"
      ],
      "execution_count": 32,
      "outputs": []
    },
    {
      "cell_type": "code",
      "metadata": {
        "colab": {
          "base_uri": "https://localhost:8080/"
        },
        "id": "ZYN6Kb3lNSXA",
        "outputId": "a9983222-cfa7-4069-8751-d9cd6eb970b1"
      },
      "source": [
        "# Confirm if number of images is same as number of labels given\r\n",
        "if len(test_image_order) == len(file_paths):\r\n",
        "  print('Number of image names i.e. ', len(test_image_order), 'matches the number of file paths i.e. ', len(file_paths))\r\n",
        "else:\r\n",
        "  print('Number of image names does not match the number of filepaths')"
      ],
      "execution_count": 33,
      "outputs": [
        {
          "output_type": "stream",
          "text": [
            "Number of image names i.e.  11282 matches the number of file paths i.e.  11282\n"
          ],
          "name": "stdout"
        }
      ]
    },
    {
      "cell_type": "code",
      "metadata": {
        "colab": {
          "base_uri": "https://localhost:8080/",
          "height": 204
        },
        "id": "mDaJurMBNSZN",
        "outputId": "a67dfaee-4868-4b20-e46a-95218c4bb803"
      },
      "source": [
        "test_images = pd.DataFrame(file_paths, columns=['filename', 'filepaths'])\r\n",
        "test_images.head()"
      ],
      "execution_count": 34,
      "outputs": [
        {
          "output_type": "execute_result",
          "data": {
            "text/html": [
              "<div>\n",
              "<style scoped>\n",
              "    .dataframe tbody tr th:only-of-type {\n",
              "        vertical-align: middle;\n",
              "    }\n",
              "\n",
              "    .dataframe tbody tr th {\n",
              "        vertical-align: top;\n",
              "    }\n",
              "\n",
              "    .dataframe thead th {\n",
              "        text-align: right;\n",
              "    }\n",
              "</style>\n",
              "<table border=\"1\" class=\"dataframe\">\n",
              "  <thead>\n",
              "    <tr style=\"text-align: right;\">\n",
              "      <th></th>\n",
              "      <th>filename</th>\n",
              "      <th>filepaths</th>\n",
              "    </tr>\n",
              "  </thead>\n",
              "  <tbody>\n",
              "    <tr>\n",
              "      <th>0</th>\n",
              "      <td>Image_1.jpg</td>\n",
              "      <td>/content/content/concrete_cracked_images/test/...</td>\n",
              "    </tr>\n",
              "    <tr>\n",
              "      <th>1</th>\n",
              "      <td>Image_2.jpg</td>\n",
              "      <td>/content/content/concrete_cracked_images/test/...</td>\n",
              "    </tr>\n",
              "    <tr>\n",
              "      <th>2</th>\n",
              "      <td>Image_3.jpg</td>\n",
              "      <td>/content/content/concrete_cracked_images/test/...</td>\n",
              "    </tr>\n",
              "    <tr>\n",
              "      <th>3</th>\n",
              "      <td>Image_4.jpg</td>\n",
              "      <td>/content/content/concrete_cracked_images/test/...</td>\n",
              "    </tr>\n",
              "    <tr>\n",
              "      <th>4</th>\n",
              "      <td>Image_5.jpg</td>\n",
              "      <td>/content/content/concrete_cracked_images/test/...</td>\n",
              "    </tr>\n",
              "  </tbody>\n",
              "</table>\n",
              "</div>"
            ],
            "text/plain": [
              "      filename                                          filepaths\n",
              "0  Image_1.jpg  /content/content/concrete_cracked_images/test/...\n",
              "1  Image_2.jpg  /content/content/concrete_cracked_images/test/...\n",
              "2  Image_3.jpg  /content/content/concrete_cracked_images/test/...\n",
              "3  Image_4.jpg  /content/content/concrete_cracked_images/test/...\n",
              "4  Image_5.jpg  /content/content/concrete_cracked_images/test/..."
            ]
          },
          "metadata": {
            "tags": []
          },
          "execution_count": 34
        }
      ]
    },
    {
      "cell_type": "code",
      "metadata": {
        "id": "RsuGFejPNScq"
      },
      "source": [
        "test_pixel_data = [] # initialize an empty numpy array\r\n",
        "image_size = 50 # image size taken is 50 here as was for training. one can take other size too\r\n",
        "for i in range(len(test_images)):\r\n",
        "    img_array = cv2.imread(test_images['filepaths'][i], cv2.IMREAD_GRAYSCALE) # converting the image to gray scale\r\n",
        "    new_img_array = cv2.resize(img_array, (image_size, image_size)) # resizing the image array\r\n",
        "    new_img_array=np.dstack((new_img_array, new_img_array, new_img_array)) #since model is trained in rgb format\r\n",
        "    test_pixel_data.append(new_img_array)"
      ],
      "execution_count": 35,
      "outputs": []
    },
    {
      "cell_type": "code",
      "metadata": {
        "id": "-MEIFk0sNG8N",
        "colab": {
          "base_uri": "https://localhost:8080/"
        },
        "outputId": "4b1008dd-8187-49e4-fc39-6c42232e141c"
      },
      "source": [
        "#converting into a numpy array\r\n",
        "test_pixel_data = np.array(test_pixel_data)\r\n",
        "#Normalization as done in the training set\r\n",
        "test_pixel_data=test_pixel_data/255\r\n",
        "test_pixel_data=test_pixel_data.reshape(-1, img_size, img_size, 3)\r\n",
        "test_pixel_data.shape"
      ],
      "execution_count": 36,
      "outputs": [
        {
          "output_type": "execute_result",
          "data": {
            "text/plain": [
              "(11282, 50, 50, 3)"
            ]
          },
          "metadata": {
            "tags": []
          },
          "execution_count": 36
        }
      ]
    },
    {
      "cell_type": "code",
      "metadata": {
        "colab": {
          "base_uri": "https://localhost:8080/"
        },
        "id": "i8_sMbY7P3Or",
        "outputId": "7b0ab394-29d2-483c-9bfe-290c7c9ad17d"
      },
      "source": [
        "#prediction by the model\r\n",
        "pred=np.argmax(vgg.predict(test_pixel_data), axis=-1)\r\n",
        "pred[:15]"
      ],
      "execution_count": 37,
      "outputs": [
        {
          "output_type": "execute_result",
          "data": {
            "text/plain": [
              "array([0, 0, 0, 0, 1, 0, 1, 0, 0, 1, 0, 0, 1, 0, 1])"
            ]
          },
          "metadata": {
            "tags": []
          },
          "execution_count": 37
        }
      ]
    },
    {
      "cell_type": "code",
      "metadata": {
        "colab": {
          "base_uri": "https://localhost:8080/"
        },
        "id": "iFJuPHqYNtDO",
        "outputId": "5e4d93e2-67b5-4d6e-da8c-f2c6e78594ca"
      },
      "source": [
        "pred.sum()"
      ],
      "execution_count": 38,
      "outputs": [
        {
          "output_type": "execute_result",
          "data": {
            "text/plain": [
              "5117"
            ]
          },
          "metadata": {
            "tags": []
          },
          "execution_count": 38
        }
      ]
    },
    {
      "cell_type": "code",
      "metadata": {
        "id": "Zzzqi4e3PRDo"
      },
      "source": [
        "prediction = []\r\n",
        "#appending Negative for 0 and Positive for 1 in prediction array\r\n",
        "for value in pred:\r\n",
        "  if value ==0:\r\n",
        "    prediction.append(\"Negative\")\r\n",
        "  else:\r\n",
        "    prediction.append(\"Positive\")"
      ],
      "execution_count": 39,
      "outputs": []
    },
    {
      "cell_type": "code",
      "metadata": {
        "colab": {
          "base_uri": "https://localhost:8080/",
          "height": 17
        },
        "id": "HbvwEXnqPRGE",
        "outputId": "e23b3726-4fa4-4dce-a09a-483617a40a92"
      },
      "source": [
        "res = pd.DataFrame({'prediction': prediction}) # prediction is nothing but the final predictions of my model on input features of new unseen test data\r\n",
        "res.to_csv(\"submission.csv\", index = False)\r\n",
        "# To download the csv file locally\r\n",
        "from google.colab import files\r\n",
        "files.download('submission.csv')"
      ],
      "execution_count": null,
      "outputs": [
        {
          "output_type": "display_data",
          "data": {
            "application/javascript": [
              "\n",
              "    async function download(id, filename, size) {\n",
              "      if (!google.colab.kernel.accessAllowed) {\n",
              "        return;\n",
              "      }\n",
              "      const div = document.createElement('div');\n",
              "      const label = document.createElement('label');\n",
              "      label.textContent = `Downloading \"${filename}\": `;\n",
              "      div.appendChild(label);\n",
              "      const progress = document.createElement('progress');\n",
              "      progress.max = size;\n",
              "      div.appendChild(progress);\n",
              "      document.body.appendChild(div);\n",
              "\n",
              "      const buffers = [];\n",
              "      let downloaded = 0;\n",
              "\n",
              "      const channel = await google.colab.kernel.comms.open(id);\n",
              "      // Send a message to notify the kernel that we're ready.\n",
              "      channel.send({})\n",
              "\n",
              "      for await (const message of channel.messages) {\n",
              "        // Send a message to notify the kernel that we're ready.\n",
              "        channel.send({})\n",
              "        if (message.buffers) {\n",
              "          for (const buffer of message.buffers) {\n",
              "            buffers.push(buffer);\n",
              "            downloaded += buffer.byteLength;\n",
              "            progress.value = downloaded;\n",
              "          }\n",
              "        }\n",
              "      }\n",
              "      const blob = new Blob(buffers, {type: 'application/binary'});\n",
              "      const a = document.createElement('a');\n",
              "      a.href = window.URL.createObjectURL(blob);\n",
              "      a.download = filename;\n",
              "      div.appendChild(a);\n",
              "      a.click();\n",
              "      div.remove();\n",
              "    }\n",
              "  "
            ],
            "text/plain": [
              "<IPython.core.display.Javascript object>"
            ]
          },
          "metadata": {
            "tags": []
          }
        },
        {
          "output_type": "display_data",
          "data": {
            "application/javascript": [
              "download(\"download_21197aa3-12ca-483f-9539-4d32df263ec7\", \"submission.csv\", 101549)"
            ],
            "text/plain": [
              "<IPython.core.display.Javascript object>"
            ]
          },
          "metadata": {
            "tags": []
          }
        }
      ]
    }
  ]
}